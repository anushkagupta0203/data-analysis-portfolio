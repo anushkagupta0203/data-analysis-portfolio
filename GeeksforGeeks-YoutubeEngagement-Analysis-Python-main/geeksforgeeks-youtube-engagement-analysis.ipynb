{
 "cells": [
  {
   "cell_type": "code",
   "execution_count": 1,
   "id": "3bd4f712",
   "metadata": {
    "_cell_guid": "b1076dfc-b9ad-4769-8c92-a6c4dae69d19",
    "_uuid": "8f2839f25d086af736a60e9eeb907d3b93b6e0e5",
    "execution": {
     "iopub.execute_input": "2025-03-07T11:05:50.923490Z",
     "iopub.status.busy": "2025-03-07T11:05:50.922971Z",
     "iopub.status.idle": "2025-03-07T11:05:51.964867Z",
     "shell.execute_reply": "2025-03-07T11:05:51.963653Z"
    },
    "papermill": {
     "duration": 1.051341,
     "end_time": "2025-03-07T11:05:51.967220",
     "exception": false,
     "start_time": "2025-03-07T11:05:50.915879",
     "status": "completed"
    },
    "tags": []
   },
   "outputs": [
    {
     "name": "stdout",
     "output_type": "stream",
     "text": [
      "/kaggle/input/gfg-youtube-engagement/gfg.csv\n"
     ]
    }
   ],
   "source": [
    "# Importing libraries\n",
    "\n",
    "import numpy as np # linear algebra\n",
    "import pandas as pd # data processing, CSV file I/O (e.g. pd.read_csv)\n",
    "\n",
    "# Input data files are available in the read-only \"../input/\" directory\n",
    "# For example, running this (by clicking run or pressing Shift+Enter) will list all files under the input directory\n",
    "\n",
    "import os\n",
    "for dirname, _, filenames in os.walk('/kaggle/input'):\n",
    "    for filename in filenames:\n",
    "        print(os.path.join(dirname, filename))\n"
   ]
  },
  {
   "cell_type": "markdown",
   "id": "1c2379b9",
   "metadata": {
    "papermill": {
     "duration": 0.005081,
     "end_time": "2025-03-07T11:05:51.978256",
     "exception": false,
     "start_time": "2025-03-07T11:05:51.973175",
     "status": "completed"
    },
    "tags": []
   },
   "source": [
    "READ THE FILE\n"
   ]
  },
  {
   "cell_type": "code",
   "execution_count": 2,
   "id": "e022c4ce",
   "metadata": {
    "execution": {
     "iopub.execute_input": "2025-03-07T11:05:51.990251Z",
     "iopub.status.busy": "2025-03-07T11:05:51.989718Z",
     "iopub.status.idle": "2025-03-07T11:05:52.066846Z",
     "shell.execute_reply": "2025-03-07T11:05:52.065585Z"
    },
    "papermill": {
     "duration": 0.085436,
     "end_time": "2025-03-07T11:05:52.068959",
     "exception": false,
     "start_time": "2025-03-07T11:05:51.983523",
     "status": "completed"
    },
    "tags": []
   },
   "outputs": [],
   "source": [
    "df=pd.read_csv('/kaggle/input/gfg-youtube-engagement/gfg.csv')"
   ]
  },
  {
   "cell_type": "markdown",
   "id": "baf40d78",
   "metadata": {
    "papermill": {
     "duration": 0.005393,
     "end_time": "2025-03-07T11:05:52.080621",
     "exception": false,
     "start_time": "2025-03-07T11:05:52.075228",
     "status": "completed"
    },
    "tags": []
   },
   "source": [
    "DESCRIBES ONLY DESCRIBES COLUMN WITH ALL NUMERIC VALUES"
   ]
  },
  {
   "cell_type": "code",
   "execution_count": 3,
   "id": "96e65bba",
   "metadata": {
    "execution": {
     "iopub.execute_input": "2025-03-07T11:05:52.092486Z",
     "iopub.status.busy": "2025-03-07T11:05:52.092131Z",
     "iopub.status.idle": "2025-03-07T11:05:52.130913Z",
     "shell.execute_reply": "2025-03-07T11:05:52.129625Z"
    },
    "papermill": {
     "duration": 0.047425,
     "end_time": "2025-03-07T11:05:52.133256",
     "exception": false,
     "start_time": "2025-03-07T11:05:52.085831",
     "status": "completed"
    },
    "tags": []
   },
   "outputs": [
    {
     "data": {
      "text/html": [
       "<div>\n",
       "<style scoped>\n",
       "    .dataframe tbody tr th:only-of-type {\n",
       "        vertical-align: middle;\n",
       "    }\n",
       "\n",
       "    .dataframe tbody tr th {\n",
       "        vertical-align: top;\n",
       "    }\n",
       "\n",
       "    .dataframe thead th {\n",
       "        text-align: right;\n",
       "    }\n",
       "</style>\n",
       "<table border=\"1\" class=\"dataframe\">\n",
       "  <thead>\n",
       "    <tr style=\"text-align: right;\">\n",
       "      <th></th>\n",
       "      <th>comments</th>\n",
       "    </tr>\n",
       "  </thead>\n",
       "  <tbody>\n",
       "    <tr>\n",
       "      <th>count</th>\n",
       "      <td>2058.000000</td>\n",
       "    </tr>\n",
       "    <tr>\n",
       "      <th>mean</th>\n",
       "      <td>12.698737</td>\n",
       "    </tr>\n",
       "    <tr>\n",
       "      <th>std</th>\n",
       "      <td>27.884626</td>\n",
       "    </tr>\n",
       "    <tr>\n",
       "      <th>min</th>\n",
       "      <td>0.000000</td>\n",
       "    </tr>\n",
       "    <tr>\n",
       "      <th>25%</th>\n",
       "      <td>2.000000</td>\n",
       "    </tr>\n",
       "    <tr>\n",
       "      <th>50%</th>\n",
       "      <td>5.000000</td>\n",
       "    </tr>\n",
       "    <tr>\n",
       "      <th>75%</th>\n",
       "      <td>13.000000</td>\n",
       "    </tr>\n",
       "    <tr>\n",
       "      <th>max</th>\n",
       "      <td>672.000000</td>\n",
       "    </tr>\n",
       "  </tbody>\n",
       "</table>\n",
       "</div>"
      ],
      "text/plain": [
       "          comments\n",
       "count  2058.000000\n",
       "mean     12.698737\n",
       "std      27.884626\n",
       "min       0.000000\n",
       "25%       2.000000\n",
       "50%       5.000000\n",
       "75%      13.000000\n",
       "max     672.000000"
      ]
     },
     "execution_count": 3,
     "metadata": {},
     "output_type": "execute_result"
    }
   ],
   "source": [
    "df.describe()"
   ]
  },
  {
   "cell_type": "markdown",
   "id": "6d47a27f",
   "metadata": {
    "papermill": {
     "duration": 0.004973,
     "end_time": "2025-03-07T11:05:52.143825",
     "exception": false,
     "start_time": "2025-03-07T11:05:52.138852",
     "status": "completed"
    },
    "tags": []
   },
   "source": [
    "Finding null values and droping rows with null or NaN values"
   ]
  },
  {
   "cell_type": "code",
   "execution_count": 4,
   "id": "e720e17f",
   "metadata": {
    "execution": {
     "iopub.execute_input": "2025-03-07T11:05:52.156269Z",
     "iopub.status.busy": "2025-03-07T11:05:52.155895Z",
     "iopub.status.idle": "2025-03-07T11:05:52.165701Z",
     "shell.execute_reply": "2025-03-07T11:05:52.164501Z"
    },
    "papermill": {
     "duration": 0.018218,
     "end_time": "2025-03-07T11:05:52.167668",
     "exception": false,
     "start_time": "2025-03-07T11:05:52.149450",
     "status": "completed"
    },
    "tags": []
   },
   "outputs": [
    {
     "data": {
      "text/plain": [
       "video_link          0\n",
       "thumbnail_link    205\n",
       "duration            0\n",
       "title              20\n",
       "views              20\n",
       "likes               0\n",
       "comments           33\n",
       "date               20\n",
       "description        21\n",
       "dtype: int64"
      ]
     },
     "execution_count": 4,
     "metadata": {},
     "output_type": "execute_result"
    }
   ],
   "source": [
    "df.isnull().sum()"
   ]
  },
  {
   "cell_type": "code",
   "execution_count": 5,
   "id": "6beb0da8",
   "metadata": {
    "execution": {
     "iopub.execute_input": "2025-03-07T11:05:52.180895Z",
     "iopub.status.busy": "2025-03-07T11:05:52.180484Z",
     "iopub.status.idle": "2025-03-07T11:05:52.191823Z",
     "shell.execute_reply": "2025-03-07T11:05:52.190639Z"
    },
    "papermill": {
     "duration": 0.020129,
     "end_time": "2025-03-07T11:05:52.193828",
     "exception": false,
     "start_time": "2025-03-07T11:05:52.173699",
     "status": "completed"
    },
    "tags": []
   },
   "outputs": [],
   "source": [
    "df = df.dropna()"
   ]
  },
  {
   "cell_type": "code",
   "execution_count": 6,
   "id": "d80d90a5",
   "metadata": {
    "execution": {
     "iopub.execute_input": "2025-03-07T11:05:52.206993Z",
     "iopub.status.busy": "2025-03-07T11:05:52.206665Z",
     "iopub.status.idle": "2025-03-07T11:05:52.216708Z",
     "shell.execute_reply": "2025-03-07T11:05:52.215530Z"
    },
    "papermill": {
     "duration": 0.019492,
     "end_time": "2025-03-07T11:05:52.218877",
     "exception": false,
     "start_time": "2025-03-07T11:05:52.199385",
     "status": "completed"
    },
    "tags": []
   },
   "outputs": [
    {
     "data": {
      "text/plain": [
       "video_link        0\n",
       "thumbnail_link    0\n",
       "duration          0\n",
       "title             0\n",
       "views             0\n",
       "likes             0\n",
       "comments          0\n",
       "date              0\n",
       "description       0\n",
       "dtype: int64"
      ]
     },
     "execution_count": 6,
     "metadata": {},
     "output_type": "execute_result"
    }
   ],
   "source": [
    "df.isnull().sum()"
   ]
  },
  {
   "cell_type": "markdown",
   "id": "ce400e1d",
   "metadata": {
    "papermill": {
     "duration": 0.006007,
     "end_time": "2025-03-07T11:05:52.231202",
     "exception": false,
     "start_time": "2025-03-07T11:05:52.225195",
     "status": "completed"
    },
    "tags": []
   },
   "source": [
    "FINDING VIDEOS OF SPECIFIC TITLE"
   ]
  },
  {
   "cell_type": "code",
   "execution_count": 7,
   "id": "73a0425b",
   "metadata": {
    "execution": {
     "iopub.execute_input": "2025-03-07T11:05:52.244130Z",
     "iopub.status.busy": "2025-03-07T11:05:52.243744Z",
     "iopub.status.idle": "2025-03-07T11:05:52.267510Z",
     "shell.execute_reply": "2025-03-07T11:05:52.265850Z"
    },
    "papermill": {
     "duration": 0.032277,
     "end_time": "2025-03-07T11:05:52.269615",
     "exception": false,
     "start_time": "2025-03-07T11:05:52.237338",
     "status": "completed"
    },
    "tags": []
   },
   "outputs": [
    {
     "name": "stdout",
     "output_type": "stream",
     "text": [
      "Python for Data Science | Data Science Master Bootcamp | Arpit Jain\n",
      "Applications of Python\n",
      "Introduction To Python | GeeksforGeeks\n",
      "How to Connect Python With MySQL DataBase? | GeeksforGeeks\n",
      "Numpy Tutorial for Beginners | Learn Python From Scratch | GeeksforGeeks Python\n",
      "Generating Word Cloud in Python | GeeksforGeeks\n",
      "Automate Google Search using Python Selenium | GeeksforGeeks\n",
      "How to Build a Weather App in Python? | GeeksforGeeks\n",
      "Python vs R - Which One is Best For ML and Data Science? | GeeksforGeeks\n",
      "Spelling Checker Program Using Python Tkinter | GeeksforGeeks\n",
      "Convert Text to Speech Using Python | GeeksforGeeks\n",
      "Automate WhatsApp Message Using Python | GeeksforGeeks\n",
      "How to Convert Any Python File to .exe? | GeeksforGeeks\n",
      "Making Audio Book From Any PDF Using Python | GeeksforGeeks\n",
      "Creating Random Password Generator Using Python | GeeksforGeeks\n",
      "How to Create a Login System in Python Using Django? | Python Projects | GeeksforGeeks\n",
      "MCQ Quiz Game Using Python Tkinter | Python Projects | GeeksforGeeks\n",
      "Rock Paper and Scissor Game Using Python Tkinter | GeeksforGeeks\n",
      "Build a Stock Trend Prediction Web App in Python | GeeksforGeeks\n",
      "Creating a Stopwatch Using Python | GeeksforGeeks\n",
      "Snake Game Using Python & Pygame | GeeksforGeeks\n",
      "Top 10 Python Libraries For Data Science | GeeksforGeeks\n",
      "How to Create QR Code Generator in Python? | GeeksforGeeks\n",
      "How to Create Notepad using Python? | GeeksforGeeks\n",
      "Different Ways to Get Python Pandas Column Names | GeeksforGeeks\n",
      "How to Create a Digital Clock Using Python? | GeeksforGeeks\n",
      "How to Take Screenshot Using Python? | GeeksforGeeks\n",
      "Build Your First Data Science Web App Using Python | GeeksforGeeks\n",
      "Registration Form Using Python Tkinter | GeeksforGeeks\n",
      "What Can You Do With Python? | GeeksforGeeks\n",
      "Web Scraping Using Python | GeeksforGeeks\n",
      "10 Python Projects for Beginners | Ishan Sharma | Geeksforgeeks\n",
      "Top 10 Most Popular Python Libraries | Yaswanth | GeeksforGeeks\n",
      "5 Reasons to Learn Python in 2021 | Ishan Sharma | GeeksforGeeks\n",
      "What is Machine Learning ? | Sample Video for ML - Basic Level Course with Python | GeeksforGeeks\n",
      "Working of List in Python | Sample Video for DS with Python Course | GeeksforGeeks\n",
      "Introduction to Python | Sample Video for Python Foundation Course | GeeksforGeeks\n",
      "#Skillitup | Workshop- Say Hi to Python!\n",
      "How to be a Python-Django Developer | Live Webinar by GeeksforGeeks\n",
      "Python | Pandas dataframe.round() | GeeksforGeeks\n",
      "Python | Pandas dataframe.skew() | GeeksforGeeks\n",
      "Python | Pandas dataframe.subtract() | GeeksforGeeks\n",
      "Python | Pandas dataframe.sub() | GeeksforGeeks\n",
      "Python | Pandas dataframe.aggregate() | GeeksforGeeks\n",
      "Python | Pandas dataframe.add() | GeeksforGeeks\n",
      "Python | Pandas dataframe.sort_index() | GeeksforGeeks\n",
      "Python | Pandas dataframe.replace() | GeeksforGeeks\n",
      "Python | Pandas dataframe.notna() | GeeksforGeeks\n",
      "Python | Pandas dataframe.notnull() | GeeksforGeeks\n",
      "Fork Python | GeeksforGeeks\n",
      "Python Program to replace a word with asterisks in a sentence | GeeksforGeeks\n",
      "Python Program for Sieve of Eratosthenes | GeeksforGeeks\n",
      "Possible Words using given characters in Python | GeeksforGeeks\n",
      "Python Programming Tutorial | Count number of vowels using sets in given string | GeeksforGeeks\n",
      "Python Programming Tutorial | Cyclically rotate an array by one | List Slicing | GeeksforGeeks\n",
      "Python Programming Tutorial | Program to split and join a string | GeeksforGeeks\n",
      "Python Programming Tutorial | Find duplicates in a string using Counter method | GeeksforGeeks\n",
      "Python Programming Tutorial | Partial Functions in Python | GeeksforGeeks\n",
      "Python Programming Tutorial | Class or Static Variables in Python | GeeksforGeeks\n",
      "Python Programming Tutorial | Global and Local Variables in Python | GeeksforGeeks\n",
      "Python Programming Tutorial | Method Overloading | GeeksforGeeks\n",
      "Python Programming Tutorial | Remove all duplicates words from a given sentence | GeeksforGeeks\n",
      "Reverse string in Python | GeeksforGeeks\n",
      "Convert a list of characters into a string in Python | GeeksforGeeks\n",
      "Count frequencies of all elements in array in Python using collections module | GeeksforGeeks\n",
      "Interesting facts about strings in Python | GeeksforGeeks\n",
      "Python Programming Tutorial | Graph Plotting in Python | GeeksforGeeks\n",
      "Python Programming Tutorial | copy in Python (Deep Copy and Shallow Copy) | GeeksforGeeks\n",
      "Python Programming Tutorial | Bisect Algorithm Functions in Python | GeeksforGeeks\n",
      "Python Programming Tutorial | Exception Handling in Python | GeeksforGeeks\n",
      "Python Programming Tutorial | Deque in Python | GeeksforGeeks\n",
      "Python Programming Tutorial | Namedtuple in Python | GeeksforGeeks\n",
      "Python Programming Tutorial | Decimal Functions in Python | Set 1 | GeeksforGeeks\n",
      "Python Programming Tutorial | Object Oriented Programming in Python - Part 3 | GeeksforGeeks\n",
      "Python Programming Tutorial | Object Oriented Programming in Python - Part 2 | GeeksforGeeks\n",
      "Python Programming Tutorial | Object Oriented Programming in Python - Part 1 | GeeksforGeeks\n",
      "Python Programming Tutorial | Arrays - Part 2 | GeeksforGeeks\n",
      "Python Programming Tutorial | Arrays - Part 1 | GeeksforGeeks\n",
      "Python Programming Tutorial | Heap in Python | GeeksforGeeks\n",
      "Python Programming Tutorial | Statistical Functions - Part 2 | GeeksforGeeks\n",
      "Python Programming Tutorial | Statistical Functions - Part 1 | GeeksforGeeks\n",
      "Python Programming Tutorial | Random Numbers in Python | GeeksforGeeks\n",
      "Python Programming Tutorial | Looping Techniques in Python | GeeksforGeeks\n",
      "Python Programming Tutorial | Inplace Operators - Part 2 | GeeksforGeeks\n",
      "Python Programming Tutorial | Inplace Operators - Part 1 | GeeksforGeeks\n",
      "Python Programming Tutorial | Calendar Functions - Part 2 | GeeksforGeeks\n",
      "Python Programming Tutorial | Calendar Functions - Part 1 | GeeksforGeeks\n",
      "Python Programming Tutorial | GCD in Python | GeeksforGeeks\n",
      "Python Programming Tutorial | Time functions in Python - Part 1 | GeeksforGeeks\n",
      "Python Programming Tutorial | Complex Numbers - Part 3 | GeeksforGeeks\n",
      "Python Programming Tutorial | Complex Numbers - Part 2 | GeeksforGeeks\n",
      "Python Programming Tutorial | Complex Numbers (Introduction) | GeeksforGeeks\n",
      "Python Programming Tutorial | Iterator Functions - Part 2 | GeeksforGeeks\n",
      "Python Programming Tutorial | Iterator Functions - Part 1 | GeeksforGeeks\n",
      "Python Programming Tutorial | Python Modules - Part 2 (Regular Expression) | GeeksforGeeks\n",
      "Python Programming Tutorial | Python Modules - Part 1 | GeeksforGeeks\n",
      "Python Programming Tutorial - Operator Functions - Part 2 | GeeksforGeeks\n",
      "Python Programming Tutorial - Dictionary - Part 3 | GeeksforGeeks\n",
      "Python Programming Tutorial - Dictionary - Part 2 | GeeksforGeeks\n",
      "Python Programming Tutorial - Dictionary - Part 1 | GeeksforGeeks\n",
      "Python Programming Tutorial - Slicing and Splitting | GeeksforGeeks\n",
      "Python Programming Tutorial - Tuples | GeeksforGeeks\n",
      "Python Programming Tutorial - Logical Operations and Splitting in Strings | GeeksforGeeks\n",
      "Python Programming Tutorial | List Methods - Part 1 | GeeksforGeeks\n",
      "Python Programming Tutorial | Python String Methods - Part 3 | GeeksforGeeks\n",
      "Advantages of Python - Handling Large Numbers | GeeksforGeeks\n",
      "Python Programming Tutorial | Python String Methods - Part 2 | GeeksforGeeks\n",
      "Python Programming Tutorial | Python String Methods - Part 1 | GeeksforGeeks\n",
      "Python Programming Tutorial | Strings, Lists, Tuples, Iterations | GeeksforGeeks\n",
      "Python Programming Tutorial | Variables, Expressions, Conditions and Functions | GeeksforGeeks\n",
      "Python Programming Tutorial | Introduction | GeeksforGeeks\n",
      "111\n"
     ]
    }
   ],
   "source": [
    "c = 0\n",
    "\n",
    "title = 'Python'.lower()\n",
    "\n",
    "for i in df['title']:\n",
    "    if (title in i.lower()):\n",
    "        c += 1\n",
    "        print(i)\n",
    "        \n",
    "print(c)"
   ]
  },
  {
   "cell_type": "code",
   "execution_count": 8,
   "id": "72b6602b",
   "metadata": {
    "execution": {
     "iopub.execute_input": "2025-03-07T11:05:52.284023Z",
     "iopub.status.busy": "2025-03-07T11:05:52.283645Z",
     "iopub.status.idle": "2025-03-07T11:05:52.290970Z",
     "shell.execute_reply": "2025-03-07T11:05:52.289034Z"
    },
    "papermill": {
     "duration": 0.017327,
     "end_time": "2025-03-07T11:05:52.293126",
     "exception": false,
     "start_time": "2025-03-07T11:05:52.275799",
     "status": "completed"
    },
    "tags": []
   },
   "outputs": [],
   "source": [
    "data= df.values"
   ]
  },
  {
   "cell_type": "markdown",
   "id": "9652c5fd",
   "metadata": {
    "papermill": {
     "duration": 0.005688,
     "end_time": "2025-03-07T11:05:52.305648",
     "exception": false,
     "start_time": "2025-03-07T11:05:52.299960",
     "status": "completed"
    },
    "tags": []
   },
   "source": [
    "FINDING VIDEOS OF SPECIFIC TITLE"
   ]
  },
  {
   "cell_type": "code",
   "execution_count": 9,
   "id": "69b96ce6",
   "metadata": {
    "execution": {
     "iopub.execute_input": "2025-03-07T11:05:52.319194Z",
     "iopub.status.busy": "2025-03-07T11:05:52.318802Z",
     "iopub.status.idle": "2025-03-07T11:05:52.356928Z",
     "shell.execute_reply": "2025-03-07T11:05:52.354266Z"
    },
    "papermill": {
     "duration": 0.047657,
     "end_time": "2025-03-07T11:05:52.359559",
     "exception": false,
     "start_time": "2025-03-07T11:05:52.311902",
     "status": "completed"
    },
    "tags": []
   },
   "outputs": [
    {
     "name": "stdout",
     "output_type": "stream",
     "text": [
      "Learn Data Structures and Algorithms | GeeksforGeeks https://www.youtube.com//watch?v=EDPTs9Cr6zU\n",
      "How to Recognize which Data Structure to use in a question | Geeks Summer Carnival | GeeksforGeeks https://www.youtube.com//watch?v=5NhY6UMuaQ0\n",
      "TED Talk Data Analysis Project | Data Science Master Bootcamp | Ashish Jangra https://www.youtube.com//watch?v=2rwwLelOaIw\n",
      "Getting Started with Data Analysis | Data Science Master Bootcamp | Ashish Jangra https://www.youtube.com//watch?v=twD083caDaA\n",
      "Python for Data Science | Data Science Master Bootcamp | Arpit Jain https://www.youtube.com//watch?v=oWjUJbbF0rQ\n",
      "Master Bootcamp - Data Science (Live) | March 24-28 | GeeksforGeeks https://www.youtube.com//watch?v=aKtp-hYN9pU\n",
      "A day in the life of a Data Analyst https://www.youtube.com//watch?v=aFn9XsUjpiw\n",
      "A Day in life of a Data Engineer https://www.youtube.com//watch?v=gF3i7zgg_0s\n",
      "Understanding the essence of Data Science | Resolution Days 2022 | GeeksforGeeks https://www.youtube.com//watch?v=uog1KeFVfuA\n",
      "Live Data Science Career Guidance with @codebasics https://www.youtube.com//watch?v=V2eeiBnQpHY\n",
      "Interview Experience Preparation | Data Scientist https://www.youtube.com//watch?v=UyJjxGKojE8\n",
      "How to Connect Python With MySQL DataBase? | GeeksforGeeks https://www.youtube.com//watch?v=tLzr727qA98\n",
      "Python vs R - Which One is Best For ML and Data Science? | GeeksforGeeks https://www.youtube.com//watch?v=5YYdFsvtDoM\n",
      "Free LIVE Classes to help you master Advanced Data Structures | GeeksforGeeks Practice https://www.youtube.com//watch?v=TFdLT7Hi2QE\n",
      "Build a Grocery Android App using MVVM and Room Database in Kotlin | GeeksforGeeks https://www.youtube.com//watch?v=vdcLb_Y71Ic\n",
      "Creating Image Dataset using Google Teachable Machine | GeeksforGeeks https://www.youtube.com//watch?v=bDsR1K53Ew0\n",
      "Different Ways to Iterate Over Rows in Pandas DataFrame | GeeksforGeeks https://www.youtube.com//watch?v=mT-2AxZLtvw\n",
      "Select Multiple Rows and Columns From a Pandas DataFrame | GeeksforGeeks https://www.youtube.com//watch?v=sqXiwHUvuh0\n",
      "How to Change the Data Type of NumPy Array? | GeeksforGeeks https://www.youtube.com//watch?v=NNl--RW75AM\n",
      "Data Science as a Career Path for Software Engineer | Kunal Vashisht https://www.youtube.com//watch?v=EPPBjdaW2F8\n",
      "How to Remove Duplicate Rows in Pandas Dataframe? | GeeksforGeeks https://www.youtube.com//watch?v=e5oOvU0VWBQ\n",
      "Top 10 Python Libraries For Data Science | GeeksforGeeks https://www.youtube.com//watch?v=E3jbcgFRivE\n",
      "Selecting Rows in Pandas DataFrame Based on Conditions | GeeksforGeeks https://www.youtube.com//watch?v=D9FwM-76Cns\n",
      "Live Mock Interview | Data Structure and Algorithms Technical Round https://www.youtube.com//watch?v=_sJge_sNQEg\n",
      "Creating a Pandas DataFrame From Lists | GeeksforGeeks https://www.youtube.com//watch?v=GOBzqpdZX5A\n",
      "How to Remove Columns From Pandas Dataframe? | GeeksforGeeks https://www.youtube.com//watch?v=8PN1eXQGZ9c\n",
      "Handling Missing Values in Pandas Dataframe | GeeksforGeeks https://www.youtube.com//watch?v=uDr67HBIPz8\n",
      "Build Your First Data Science Web App Using Python | GeeksforGeeks https://www.youtube.com//watch?v=dr78W28vzbM\n",
      "How to Rename Columns in Pandas DataFrame? | GeeksforGeeks https://www.youtube.com//watch?v=jj-6-DUpG5o\n",
      "Machine Learning vs Data Science | GeeksforGeeks https://www.youtube.com//watch?v=9J-7-xOfAf4\n",
      "How to Add New Column in Pandas Dataframe? | GeeksforGeeks https://www.youtube.com//watch?v=IZ8oCcVB3iA\n",
      "Different Ways to Create a Pandas DataFrame | GeeksforGeeks https://www.youtube.com//watch?v=dEHJmn6p39M\n",
      "Roadmap to Data Science & Machine Learning | GeeksforGeeks https://www.youtube.com//watch?v=l20TjQ-e0ww\n",
      "How to level up your Data Structures & Algorithms https://www.youtube.com//watch?v=EvxTNYv94TM\n",
      "A Data Scientist without CS background : Is it possible? https://www.youtube.com//watch?v=Y3K84oYen6Y\n",
      "Essential Math For Data Science | Shivani | GeeksforGeeks https://www.youtube.com//watch?v=fGV2rxn42R4\n",
      "Complete Roadmap to Become a Data Scientist | Etisha | GeeksforGeeks https://www.youtube.com//watch?v=2svr0P081A4\n",
      "Diving Deep into Data Analytics | Pooja Khanduja | GeeksforGeeks https://www.youtube.com//watch?v=MSHVWOGSguo\n",
      "Data Structures and Algorithms | Online Course | GeeksforGeeks https://www.youtube.com//watch?v=XV8zBiRIivQ\n",
      "Top 7 Programming Language for Data Science | Yashwanth | Geeksforgeeks https://www.youtube.com//watch?v=SSGaShI_mBE\n",
      "How to get Data Science Internship | Shivani Singh | GeeksforGeeks https://www.youtube.com//watch?v=_fR62smonRA\n",
      "Must Skills to Become Data Scientists in 2021 | Akash Kalra | GeeksforGeeks https://www.youtube.com//watch?v=zAJ8NVGwutA\n",
      "Importance of DSA (Data Structures & Algorithms) | Radhika Jhunjhunwala | GeeksforGeeks https://www.youtube.com//watch?v=ke1WY5tWMWo\n",
      "Finding Number of Pairs | Data Structures & Algorithms | Programming Tutorials | GeeksforGeeks https://www.youtube.com//watch?v=CafQe7sfdfY\n",
      "Check if String is Isogram | Data Structures & Algorithms | Programming Tutorials | GeeksforGeeks https://www.youtube.com//watch?v=Y3T03b8cQ2k\n",
      "Closer To Sort | Data Structures & Algorithms | Programming Tutorials | GeeksforGeeks https://www.youtube.com//watch?v=5qVSEngNtL4\n",
      "Triplet Sum in an Array | Data Structures & Algorithms | Programming Tutorials | GeeksforGeeks https://www.youtube.com//watch?v=o7HykueZVs4\n",
      "Minimum Index Character | Data Structures & Algorithms | Programming Tutorials | GeeksforGeeks https://www.youtube.com//watch?v=6nWWUYNnpXM\n",
      "Pangram Checking | Data Structures & Algorithms | Programming Tutorials | GeeksforGeeks https://www.youtube.com//watch?v=Yv4ARV-Hrow\n",
      "Case-Specific Sorting of Strings |Data Structures & Algorithms| Programming Tutorials|GeeksforGeeks https://www.youtube.com//watch?v=icb4ydeBN9g\n",
      "Vertical Width of Binary Tree |Data Structures & Algorithms| Programming Tutorials | GeeksforGeeks https://www.youtube.com//watch?v=_eCUwPPbZXk\n",
      "Know Why Big Data Is a Great Career Move? | Free Workshop by GeeksforGeeks https://www.youtube.com//watch?v=qi2sJoFxeCc\n",
      "Machine learning and Data science fundamentals | GeeksforGeeks https://www.youtube.com//watch?v=ZqjBPYX_2bk\n",
      "Sort a linked list of 0s, 1s and 2s by changing data. | GeeksforGeeks https://www.youtube.com//watch?v=NhYYbTbN2-w\n",
      "How to Become a Data Scientist in 2020 ? https://www.youtube.com//watch?v=AkaL_bYAdV4\n",
      "Why are Data Structures necessary - by Sandeep Jain | GeeksforGeeks https://www.youtube.com//watch?v=V5he1JXiQbg\n",
      "Python | Pandas dataframe.round() | GeeksforGeeks https://www.youtube.com//watch?v=rOnKa_tzV04\n",
      "Python | Pandas dataframe.skew() | GeeksforGeeks https://www.youtube.com//watch?v=wbDxmlpV3t0\n",
      "Python | Pandas dataframe.subtract() | GeeksforGeeks https://www.youtube.com//watch?v=yHR-ZUmmrQQ\n",
      "Python | Pandas dataframe.sub() | GeeksforGeeks https://www.youtube.com//watch?v=A3xrtPHMrM8\n",
      "Python | Pandas dataframe.aggregate() | GeeksforGeeks https://www.youtube.com//watch?v=RCLtgM2LLhs\n",
      "Python | Pandas dataframe.add() | GeeksforGeeks https://www.youtube.com//watch?v=zYmQ3D-HDqY\n",
      "Python | Pandas dataframe.sort_index() | GeeksforGeeks https://www.youtube.com//watch?v=uxPYPnxI9N0\n",
      "Python | Pandas dataframe.replace() | GeeksforGeeks https://www.youtube.com//watch?v=Z2dy-U9rKxk\n",
      "Python | Pandas dataframe.notna() | GeeksforGeeks https://www.youtube.com//watch?v=KJ8cm4HtQc0\n",
      "Python | Pandas dataframe.notnull() | GeeksforGeeks https://www.youtube.com//watch?v=YpXUoVnG1is\n",
      "Android Development Tutorial | Saving data using Shared Preferences | GeeksforGeeks https://www.youtube.com//watch?v=4mDp47rRK8M\n",
      "Android Development Tutorial | Passing data b/w Activities by Intent Basic Example | GeeksforGeeks https://www.youtube.com//watch?v=LCMOVfIWFYQ\n",
      "C++ Programming Language Tutorial | C++ Data Types | GeeksforGeeks https://www.youtube.com//watch?v=ATYsrD-jlxw\n",
      "Find multiplication of sums of data of leaves at same levels | GeeksforGeeks https://www.youtube.com//watch?v=oG1LqvQbnzQ\n",
      "Swap nodes in a linked list without swapping data | GeeksforGeeks https://www.youtube.com//watch?v=V4ZHvhvVmSE\n",
      "Design and Implement Special Stack Data Structure | GeeksforGeeks https://www.youtube.com//watch?v=1Ld7gbW1oHc\n",
      "72\n"
     ]
    }
   ],
   "source": [
    "c=0\n",
    "title = 'data'.lower()\n",
    "\n",
    "\n",
    "for i in data:\n",
    "    if(title in i[3].lower()):\n",
    "        c+=1\n",
    "        print(i[3] , i[0])\n",
    "\n",
    "print(c)"
   ]
  },
  {
   "cell_type": "markdown",
   "id": "24b3b759",
   "metadata": {
    "papermill": {
     "duration": 0.005571,
     "end_time": "2025-03-07T11:05:52.372366",
     "exception": false,
     "start_time": "2025-03-07T11:05:52.366795",
     "status": "completed"
    },
    "tags": []
   },
   "source": [
    "FINDING VIDEOS THAT ARE RELATED TO PYTHON FOR DATA SCIENCE"
   ]
  },
  {
   "cell_type": "code",
   "execution_count": 10,
   "id": "7d9902b7",
   "metadata": {
    "execution": {
     "iopub.execute_input": "2025-03-07T11:05:52.386294Z",
     "iopub.status.busy": "2025-03-07T11:05:52.385672Z",
     "iopub.status.idle": "2025-03-07T11:05:52.399700Z",
     "shell.execute_reply": "2025-03-07T11:05:52.398076Z"
    },
    "papermill": {
     "duration": 0.02317,
     "end_time": "2025-03-07T11:05:52.401890",
     "exception": false,
     "start_time": "2025-03-07T11:05:52.378720",
     "status": "completed"
    },
    "tags": []
   },
   "outputs": [
    {
     "name": "stdout",
     "output_type": "stream",
     "text": [
      "Python for Data Science | Data Science Master Bootcamp | Arpit Jain https://www.youtube.com//watch?v=oWjUJbbF0rQ\n",
      "How to Connect Python With MySQL DataBase? | GeeksforGeeks https://www.youtube.com//watch?v=tLzr727qA98\n",
      "Python vs R - Which One is Best For ML and Data Science? | GeeksforGeeks https://www.youtube.com//watch?v=5YYdFsvtDoM\n",
      "Top 10 Python Libraries For Data Science | GeeksforGeeks https://www.youtube.com//watch?v=E3jbcgFRivE\n",
      "Build Your First Data Science Web App Using Python | GeeksforGeeks https://www.youtube.com//watch?v=dr78W28vzbM\n",
      "Python | Pandas dataframe.round() | GeeksforGeeks https://www.youtube.com//watch?v=rOnKa_tzV04\n",
      "Python | Pandas dataframe.skew() | GeeksforGeeks https://www.youtube.com//watch?v=wbDxmlpV3t0\n",
      "Python | Pandas dataframe.subtract() | GeeksforGeeks https://www.youtube.com//watch?v=yHR-ZUmmrQQ\n",
      "Python | Pandas dataframe.sub() | GeeksforGeeks https://www.youtube.com//watch?v=A3xrtPHMrM8\n",
      "Python | Pandas dataframe.aggregate() | GeeksforGeeks https://www.youtube.com//watch?v=RCLtgM2LLhs\n",
      "Python | Pandas dataframe.add() | GeeksforGeeks https://www.youtube.com//watch?v=zYmQ3D-HDqY\n",
      "Python | Pandas dataframe.sort_index() | GeeksforGeeks https://www.youtube.com//watch?v=uxPYPnxI9N0\n",
      "Python | Pandas dataframe.replace() | GeeksforGeeks https://www.youtube.com//watch?v=Z2dy-U9rKxk\n",
      "Python | Pandas dataframe.notna() | GeeksforGeeks https://www.youtube.com//watch?v=KJ8cm4HtQc0\n",
      "Python | Pandas dataframe.notnull() | GeeksforGeeks https://www.youtube.com//watch?v=YpXUoVnG1is\n",
      "15\n"
     ]
    }
   ],
   "source": [
    "c = 0\n",
    "keywords = ['data', 'python']\n",
    "\n",
    "for i in data:\n",
    "    if all(keyword in i[3].lower() for keyword in keywords):\n",
    "        c += 1\n",
    "        print(i[3], i[0])\n",
    "\n",
    "print(c)"
   ]
  },
  {
   "cell_type": "markdown",
   "id": "4adab474",
   "metadata": {
    "papermill": {
     "duration": 0.005652,
     "end_time": "2025-03-07T11:05:52.413775",
     "exception": false,
     "start_time": "2025-03-07T11:05:52.408123",
     "status": "completed"
    },
    "tags": []
   },
   "source": [
    "CONVERTING COMMA SEPARATED STRING VALUES IN VIEWS INTO INTEGERS"
   ]
  },
  {
   "cell_type": "code",
   "execution_count": 11,
   "id": "768a50f4",
   "metadata": {
    "execution": {
     "iopub.execute_input": "2025-03-07T11:05:52.427971Z",
     "iopub.status.busy": "2025-03-07T11:05:52.427602Z",
     "iopub.status.idle": "2025-03-07T11:05:52.434574Z",
     "shell.execute_reply": "2025-03-07T11:05:52.433130Z"
    },
    "papermill": {
     "duration": 0.016222,
     "end_time": "2025-03-07T11:05:52.436733",
     "exception": false,
     "start_time": "2025-03-07T11:05:52.420511",
     "status": "completed"
    },
    "tags": []
   },
   "outputs": [],
   "source": [
    "views = []\n",
    "\n",
    "for i in df['views']:\n",
    "    views.append(int(str(i).replace(',','')))"
   ]
  },
  {
   "cell_type": "code",
   "execution_count": 12,
   "id": "0b0ff2da",
   "metadata": {
    "execution": {
     "iopub.execute_input": "2025-03-07T11:05:52.450177Z",
     "iopub.status.busy": "2025-03-07T11:05:52.449761Z",
     "iopub.status.idle": "2025-03-07T11:05:52.455490Z",
     "shell.execute_reply": "2025-03-07T11:05:52.454195Z"
    },
    "papermill": {
     "duration": 0.01448,
     "end_time": "2025-03-07T11:05:52.457356",
     "exception": false,
     "start_time": "2025-03-07T11:05:52.442876",
     "status": "completed"
    },
    "tags": []
   },
   "outputs": [],
   "source": [
    "df['views']=views"
   ]
  },
  {
   "cell_type": "code",
   "execution_count": 13,
   "id": "17a06d4e",
   "metadata": {
    "execution": {
     "iopub.execute_input": "2025-03-07T11:05:52.471969Z",
     "iopub.status.busy": "2025-03-07T11:05:52.471634Z",
     "iopub.status.idle": "2025-03-07T11:05:52.478828Z",
     "shell.execute_reply": "2025-03-07T11:05:52.477495Z"
    },
    "papermill": {
     "duration": 0.016834,
     "end_time": "2025-03-07T11:05:52.481036",
     "exception": false,
     "start_time": "2025-03-07T11:05:52.464202",
     "status": "completed"
    },
    "tags": []
   },
   "outputs": [
    {
     "data": {
      "text/plain": [
       "45539373"
      ]
     },
     "execution_count": 13,
     "metadata": {},
     "output_type": "execute_result"
    }
   ],
   "source": [
    "df['views'].sum()"
   ]
  },
  {
   "cell_type": "markdown",
   "id": "eb01c82c",
   "metadata": {
    "papermill": {
     "duration": 0.005789,
     "end_time": "2025-03-07T11:05:52.493182",
     "exception": false,
     "start_time": "2025-03-07T11:05:52.487393",
     "status": "completed"
    },
    "tags": []
   },
   "source": [
    "Now, describe gives us two columns"
   ]
  },
  {
   "cell_type": "code",
   "execution_count": 14,
   "id": "07d8fee4",
   "metadata": {
    "execution": {
     "iopub.execute_input": "2025-03-07T11:05:52.507019Z",
     "iopub.status.busy": "2025-03-07T11:05:52.506645Z",
     "iopub.status.idle": "2025-03-07T11:05:52.522066Z",
     "shell.execute_reply": "2025-03-07T11:05:52.520938Z"
    },
    "papermill": {
     "duration": 0.024599,
     "end_time": "2025-03-07T11:05:52.523979",
     "exception": false,
     "start_time": "2025-03-07T11:05:52.499380",
     "status": "completed"
    },
    "tags": []
   },
   "outputs": [
    {
     "data": {
      "text/html": [
       "<div>\n",
       "<style scoped>\n",
       "    .dataframe tbody tr th:only-of-type {\n",
       "        vertical-align: middle;\n",
       "    }\n",
       "\n",
       "    .dataframe tbody tr th {\n",
       "        vertical-align: top;\n",
       "    }\n",
       "\n",
       "    .dataframe thead th {\n",
       "        text-align: right;\n",
       "    }\n",
       "</style>\n",
       "<table border=\"1\" class=\"dataframe\">\n",
       "  <thead>\n",
       "    <tr style=\"text-align: right;\">\n",
       "      <th></th>\n",
       "      <th>views</th>\n",
       "      <th>comments</th>\n",
       "    </tr>\n",
       "  </thead>\n",
       "  <tbody>\n",
       "    <tr>\n",
       "      <th>count</th>\n",
       "      <td>1.854000e+03</td>\n",
       "      <td>1854.000000</td>\n",
       "    </tr>\n",
       "    <tr>\n",
       "      <th>mean</th>\n",
       "      <td>2.456277e+04</td>\n",
       "      <td>12.570119</td>\n",
       "    </tr>\n",
       "    <tr>\n",
       "      <th>std</th>\n",
       "      <td>9.258215e+04</td>\n",
       "      <td>28.238159</td>\n",
       "    </tr>\n",
       "    <tr>\n",
       "      <th>min</th>\n",
       "      <td>2.240000e+02</td>\n",
       "      <td>0.000000</td>\n",
       "    </tr>\n",
       "    <tr>\n",
       "      <th>25%</th>\n",
       "      <td>2.308250e+03</td>\n",
       "      <td>2.000000</td>\n",
       "    </tr>\n",
       "    <tr>\n",
       "      <th>50%</th>\n",
       "      <td>5.021500e+03</td>\n",
       "      <td>5.000000</td>\n",
       "    </tr>\n",
       "    <tr>\n",
       "      <th>75%</th>\n",
       "      <td>1.505850e+04</td>\n",
       "      <td>12.000000</td>\n",
       "    </tr>\n",
       "    <tr>\n",
       "      <th>max</th>\n",
       "      <td>1.912881e+06</td>\n",
       "      <td>672.000000</td>\n",
       "    </tr>\n",
       "  </tbody>\n",
       "</table>\n",
       "</div>"
      ],
      "text/plain": [
       "              views     comments\n",
       "count  1.854000e+03  1854.000000\n",
       "mean   2.456277e+04    12.570119\n",
       "std    9.258215e+04    28.238159\n",
       "min    2.240000e+02     0.000000\n",
       "25%    2.308250e+03     2.000000\n",
       "50%    5.021500e+03     5.000000\n",
       "75%    1.505850e+04    12.000000\n",
       "max    1.912881e+06   672.000000"
      ]
     },
     "execution_count": 14,
     "metadata": {},
     "output_type": "execute_result"
    }
   ],
   "source": [
    "df.describe()"
   ]
  },
  {
   "cell_type": "markdown",
   "id": "320822d3",
   "metadata": {
    "papermill": {
     "duration": 0.005984,
     "end_time": "2025-03-07T11:05:52.536688",
     "exception": false,
     "start_time": "2025-03-07T11:05:52.530704",
     "status": "completed"
    },
    "tags": []
   },
   "source": [
    "Likes has values such as 2K, converting all into numeric"
   ]
  },
  {
   "cell_type": "code",
   "execution_count": 15,
   "id": "13996d90",
   "metadata": {
    "execution": {
     "iopub.execute_input": "2025-03-07T11:05:52.551901Z",
     "iopub.status.busy": "2025-03-07T11:05:52.551537Z",
     "iopub.status.idle": "2025-03-07T11:05:52.557731Z",
     "shell.execute_reply": "2025-03-07T11:05:52.556555Z"
    },
    "papermill": {
     "duration": 0.015828,
     "end_time": "2025-03-07T11:05:52.559591",
     "exception": false,
     "start_time": "2025-03-07T11:05:52.543763",
     "status": "completed"
    },
    "tags": []
   },
   "outputs": [],
   "source": [
    "likes = []\n",
    "\n",
    "for i in df['likes']:\n",
    "    if ('K' in i):\n",
    "        likes.append(int(float(i[:-1]) * 1000))\n",
    "        \n",
    "    else:\n",
    "        likes.append(int(i))"
   ]
  },
  {
   "cell_type": "code",
   "execution_count": 16,
   "id": "4fc7f8be",
   "metadata": {
    "execution": {
     "iopub.execute_input": "2025-03-07T11:05:52.574669Z",
     "iopub.status.busy": "2025-03-07T11:05:52.574294Z",
     "iopub.status.idle": "2025-03-07T11:05:52.580558Z",
     "shell.execute_reply": "2025-03-07T11:05:52.579353Z"
    },
    "papermill": {
     "duration": 0.017238,
     "end_time": "2025-03-07T11:05:52.583795",
     "exception": false,
     "start_time": "2025-03-07T11:05:52.566557",
     "status": "completed"
    },
    "tags": []
   },
   "outputs": [],
   "source": [
    "df['likes'] = likes"
   ]
  },
  {
   "cell_type": "markdown",
   "id": "dfe628f9",
   "metadata": {
    "papermill": {
     "duration": 0.006403,
     "end_time": "2025-03-07T11:05:52.597304",
     "exception": false,
     "start_time": "2025-03-07T11:05:52.590901",
     "status": "completed"
    },
    "tags": []
   },
   "source": []
  },
  {
   "cell_type": "code",
   "execution_count": null,
   "id": "c4702d82",
   "metadata": {
    "execution": {
     "iopub.execute_input": "2025-03-06T09:58:48.573095Z",
     "iopub.status.busy": "2025-03-06T09:58:48.572759Z",
     "iopub.status.idle": "2025-03-06T09:58:48.586705Z",
     "shell.execute_reply": "2025-03-06T09:58:48.585546Z",
     "shell.execute_reply.started": "2025-03-06T09:58:48.573069Z"
    },
    "papermill": {
     "duration": 0.006018,
     "end_time": "2025-03-07T11:05:52.611251",
     "exception": false,
     "start_time": "2025-03-07T11:05:52.605233",
     "status": "completed"
    },
    "tags": []
   },
   "outputs": [],
   "source": []
  }
 ],
 "metadata": {
  "kaggle": {
   "accelerator": "none",
   "dataSources": [
    {
     "datasetId": 6801877,
     "sourceId": 10937752,
     "sourceType": "datasetVersion"
    }
   ],
   "dockerImageVersionId": 30918,
   "isGpuEnabled": false,
   "isInternetEnabled": true,
   "language": "python",
   "sourceType": "notebook"
  },
  "kernelspec": {
   "display_name": "Python 3",
   "language": "python",
   "name": "python3"
  },
  "language_info": {
   "codemirror_mode": {
    "name": "ipython",
    "version": 3
   },
   "file_extension": ".py",
   "mimetype": "text/x-python",
   "name": "python",
   "nbconvert_exporter": "python",
   "pygments_lexer": "ipython3",
   "version": "3.10.12"
  },
  "papermill": {
   "default_parameters": {},
   "duration": 5.290478,
   "end_time": "2025-03-07T11:05:53.238560",
   "environment_variables": {},
   "exception": null,
   "input_path": "__notebook__.ipynb",
   "output_path": "__notebook__.ipynb",
   "parameters": {},
   "start_time": "2025-03-07T11:05:47.948082",
   "version": "2.6.0"
  }
 },
 "nbformat": 4,
 "nbformat_minor": 5
}
